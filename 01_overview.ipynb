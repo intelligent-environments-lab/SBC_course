{
 "cells": [
  {
   "cell_type": "markdown",
   "metadata": {},
   "source": [
    "# 01_Overview"
   ]
  },
  {
   "cell_type": "markdown",
   "metadata": {},
   "source": [
    "This notebook explains the overview of CE397 course lab session. In this lab session, students will learn how to use python for scientific programming. Specifically, various python libraries will be used. The learning objective of this lab session is **(1) teaching basic python and libraries**, so that students will be able to **(2) search what they want to try** and **(3) apply these tools for their research domain**. Fig.1 shows the overview of lab session. "
   ]
  },
  {
   "cell_type": "markdown",
   "metadata": {},
   "source": [
    "<img src=\"overview.png\">\n",
    "<h5><center>Fig.1 Overview</center></h5>"
   ]
  },
  {
   "cell_type": "markdown",
   "metadata": {},
   "source": [
    "## Key topics on each module"
   ]
  },
  {
   "cell_type": "markdown",
   "metadata": {},
   "source": [
    "#### Module1. Basic python programming\n",
    "1. Jupyter notebook\n",
    "2. For, While, and If\n",
    "3. Basic Numpy"
   ]
  },
  {
   "cell_type": "markdown",
   "metadata": {},
   "source": [
    "#### Module2. Data structure and organization \n",
    "1. Import from raw data\n",
    "2. Pandas dataframe\n",
    "3. Descriptive statistics"
   ]
  },
  {
   "cell_type": "markdown",
   "metadata": {},
   "source": [
    "#### Module3. Data visualization\n",
    "1. Basic plots with Matplotlib\n",
    "2. Advanced plots with Seaborn"
   ]
  },
  {
   "cell_type": "markdown",
   "metadata": {},
   "source": [
    "#### Module4. Applied machine learning 1\n",
    "1. Supervised learning algorithms using ScikitLearn \n",
    "2. Unsupervised learning algorithms using ScikitLearn"
   ]
  },
  {
   "cell_type": "markdown",
   "metadata": {},
   "source": [
    "#### Module5. Applied machine learning 2\n",
    "1. Suggestions?"
   ]
  }
 ],
 "metadata": {
  "anaconda-cloud": {},
  "kernelspec": {
   "display_name": "Python [default]",
   "language": "python",
   "name": "python2"
  },
  "language_info": {
   "codemirror_mode": {
    "name": "ipython",
    "version": 2
   },
   "file_extension": ".py",
   "mimetype": "text/x-python",
   "name": "python",
   "nbconvert_exporter": "python",
   "pygments_lexer": "ipython2",
   "version": "2.7.12"
  }
 },
 "nbformat": 4,
 "nbformat_minor": 2
}
