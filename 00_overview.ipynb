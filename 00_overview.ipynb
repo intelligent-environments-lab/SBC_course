{
 "cells": [
  {
   "cell_type": "markdown",
   "metadata": {},
   "source": [
    "# 00_Overview"
   ]
  },
  {
   "cell_type": "markdown",
   "metadata": {},
   "source": [
    "This notebook explains the overview of CE397 course lab session. In this lab session, students will learn how to use python for scientific programming. Specifically, various python libraries will be used. The learning objective of this lab session is **(1) teaching basic python and libraries**, so that students will be able to **(2) search what they want to try** and **(3) apply these tools for their research domain**. "
   ]
  },
  {
   "cell_type": "markdown",
   "metadata": {},
   "source": [
    "<img src=\"drawing.png\">\n",
    "<h5><center>Fig.1 Python? Jupyter Notebook? Libraries?</center></h5>"
   ]
  },
  {
   "cell_type": "markdown",
   "metadata": {},
   "source": [
    "<img src=\"overview.png\">\n",
    "<h5><center>Fig.2 Python for data science</center></h5>"
   ]
  },
  {
   "cell_type": "markdown",
   "metadata": {},
   "source": [
    "## Key topics on each module"
   ]
  },
  {
   "cell_type": "markdown",
   "metadata": {},
   "source": [
    "#### Module1. Basic python programming\n",
    "1. Project Jupyter\n",
    "2. Basic Python\n",
    "3. Basic Numpy"
   ]
  },
  {
   "cell_type": "markdown",
   "metadata": {},
   "source": [
    "#### Module2. Data structure and organization \n",
    "1. Import from raw data\n",
    "2. Pandas dataframe\n",
    "3. Descriptive statistics\n",
    "4. Exploratory data analysis "
   ]
  },
  {
   "cell_type": "markdown",
   "metadata": {},
   "source": [
    "#### Module3. Machine learning 1\n",
    "1. ANN\n",
    "2. Regression"
   ]
  },
  {
   "cell_type": "markdown",
   "metadata": {},
   "source": [
    "#### Module4. Machine learning 2\n",
    "1. k-NN\n",
    "2. SVM\n",
    "3. Naive Bayes\n",
    "4. Decision trees"
   ]
  },
  {
   "cell_type": "markdown",
   "metadata": {},
   "source": [
    "#### Module5. Machine learning 3\n",
    "1. K-means clustering\n",
    "2. Hierarchical clustering"
   ]
  }
 ],
 "metadata": {
  "anaconda-cloud": {},
  "kernelspec": {
   "display_name": "Python [default]",
   "language": "python",
   "name": "python2"
  },
  "language_info": {
   "codemirror_mode": {
    "name": "ipython",
    "version": 2
   },
   "file_extension": ".py",
   "mimetype": "text/x-python",
   "name": "python",
   "nbconvert_exporter": "python",
   "pygments_lexer": "ipython2",
   "version": "2.7.12"
  }
 },
 "nbformat": 4,
 "nbformat_minor": 2
}
