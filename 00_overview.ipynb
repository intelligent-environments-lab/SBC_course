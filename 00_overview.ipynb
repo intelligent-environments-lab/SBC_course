{
 "cells": [
  {
   "cell_type": "markdown",
   "metadata": {},
   "source": [
    "# 00_Overview"
   ]
  },
  {
   "cell_type": "markdown",
   "metadata": {},
   "source": [
    "This notebook explains the overview of CE397 course lab session. In this lab session, students will learn how to use Python for data science purpose. Specifically, various python libraries will be used (Fig. 2). The learning objective of this lab session is **(1) teaching basic python and libraries**, so that students will be able to **(2) search what they want to try** and **(3) apply these tools for their research domain**. "
   ]
  },
  {
   "cell_type": "markdown",
   "metadata": {},
   "source": [
    "<img src=\"drawing.png\">\n",
    "<h5><center>Fig.1 Python? Jupyter Notebook? Libraries?</center></h5>"
   ]
  },
  {
   "cell_type": "markdown",
   "metadata": {},
   "source": [
    "<img src=\"overview.png\">\n",
    "<h5><center>Fig.2 Python for data science</center></h5>"
   ]
  },
  {
   "cell_type": "markdown",
   "metadata": {},
   "source": [
    "## Key topics in this lab"
   ]
  },
  {
   "cell_type": "markdown",
   "metadata": {},
   "source": [
    "#### Basic python programming\n",
    "1. Project Jupyter\n",
    "2. Basic Python\n",
    "3. Basic Numpy"
   ]
  },
  {
   "cell_type": "markdown",
   "metadata": {},
   "source": [
    "#### Data structure and organization \n",
    "1. Import from raw data\n",
    "2. Pandas dataframe\n",
    "3. Descriptive statistics\n",
    "4. Exploratory data analysis "
   ]
  },
  {
   "cell_type": "markdown",
   "metadata": {},
   "source": [
    "#### Supervised Learning\n",
    "1. NN based classification\n",
    "2. NN based Regression\n",
    "3. Logistic Regression\n",
    "4. k-NN classification\n",
    "5. SVM classification\n",
    "6. Decision trees classification"
   ]
  },
  {
   "cell_type": "markdown",
   "metadata": {},
   "source": [
    "#### Unsupervised Learning\n",
    "1. K-means clustering\n",
    "2. Hierarchical clustering"
   ]
  },
  {
   "cell_type": "code",
   "execution_count": null,
   "metadata": {},
   "outputs": [],
   "source": []
  }
 ],
 "metadata": {
  "anaconda-cloud": {},
  "kernelspec": {
   "display_name": "Python 3",
   "language": "python",
   "name": "python3"
  },
  "language_info": {
   "codemirror_mode": {
    "name": "ipython",
    "version": 3
   },
   "file_extension": ".py",
   "mimetype": "text/x-python",
   "name": "python",
   "nbconvert_exporter": "python",
   "pygments_lexer": "ipython3",
   "version": "3.7.2"
  }
 },
 "nbformat": 4,
 "nbformat_minor": 2
}
